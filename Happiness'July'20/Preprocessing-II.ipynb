{
 "cells": [
  {
   "cell_type": "code",
   "execution_count": 1,
   "metadata": {},
   "outputs": [],
   "source": [
    "import pandas as pd\n",
    "import numpy as np"
   ]
  },
  {
   "cell_type": "code",
   "execution_count": 7,
   "metadata": {},
   "outputs": [],
   "source": [
    "df = pd.read_csv('WHR-Cleaned.csv')\n",
    "df= df.drop(['Unnamed: 0','Standard deviation of ladder by country-year','Standard deviation/Mean of ladder by country-year'],axis=1)"
   ]
  },
  {
   "cell_type": "code",
   "execution_count": 8,
   "metadata": {},
   "outputs": [
    {
     "data": {
      "text/html": [
       "<div>\n",
       "<style scoped>\n",
       "    .dataframe tbody tr th:only-of-type {\n",
       "        vertical-align: middle;\n",
       "    }\n",
       "\n",
       "    .dataframe tbody tr th {\n",
       "        vertical-align: top;\n",
       "    }\n",
       "\n",
       "    .dataframe thead th {\n",
       "        text-align: right;\n",
       "    }\n",
       "</style>\n",
       "<table border=\"1\" class=\"dataframe\">\n",
       "  <thead>\n",
       "    <tr style=\"text-align: right;\">\n",
       "      <th></th>\n",
       "      <th>Country name</th>\n",
       "      <th>year</th>\n",
       "      <th>Life Ladder</th>\n",
       "      <th>Log GDP per capita</th>\n",
       "      <th>Social support</th>\n",
       "      <th>Healthy life expectancy at birth</th>\n",
       "      <th>Freedom to make life choices</th>\n",
       "      <th>Generosity</th>\n",
       "      <th>Perceptions of corruption</th>\n",
       "      <th>Positive affect</th>\n",
       "      <th>Negative affect</th>\n",
       "      <th>Confidence in national government</th>\n",
       "      <th>Democratic Quality</th>\n",
       "      <th>Delivery Quality</th>\n",
       "      <th>GINI index (World Bank estimate), average 2000-2017, unbalanced panel</th>\n",
       "      <th>gini of household income reported in Gallup, by wp5-year</th>\n",
       "    </tr>\n",
       "  </thead>\n",
       "  <tbody>\n",
       "    <tr>\n",
       "      <th>0</th>\n",
       "      <td>Afghanistan</td>\n",
       "      <td>2016</td>\n",
       "      <td>4.220169</td>\n",
       "      <td>7.471376</td>\n",
       "      <td>0.559072</td>\n",
       "      <td>53.000000</td>\n",
       "      <td>0.522566</td>\n",
       "      <td>0.053188</td>\n",
       "      <td>0.793246</td>\n",
       "      <td>0.564953</td>\n",
       "      <td>0.348332</td>\n",
       "      <td>0.324990</td>\n",
       "      <td>-1.855448</td>\n",
       "      <td>-1.394648</td>\n",
       "      <td>0.382801</td>\n",
       "      <td>0.418629</td>\n",
       "    </tr>\n",
       "    <tr>\n",
       "      <th>1</th>\n",
       "      <td>Afghanistan</td>\n",
       "      <td>2017</td>\n",
       "      <td>2.661718</td>\n",
       "      <td>7.472197</td>\n",
       "      <td>0.490880</td>\n",
       "      <td>52.799999</td>\n",
       "      <td>0.427011</td>\n",
       "      <td>-0.110382</td>\n",
       "      <td>0.954393</td>\n",
       "      <td>0.496349</td>\n",
       "      <td>0.371326</td>\n",
       "      <td>0.261179</td>\n",
       "      <td>-1.896539</td>\n",
       "      <td>-1.440218</td>\n",
       "      <td>0.382801</td>\n",
       "      <td>0.286599</td>\n",
       "    </tr>\n",
       "    <tr>\n",
       "      <th>2</th>\n",
       "      <td>Afghanistan</td>\n",
       "      <td>2018</td>\n",
       "      <td>2.694303</td>\n",
       "      <td>7.458603</td>\n",
       "      <td>0.507516</td>\n",
       "      <td>52.599998</td>\n",
       "      <td>0.373536</td>\n",
       "      <td>-0.082319</td>\n",
       "      <td>0.927606</td>\n",
       "      <td>0.424125</td>\n",
       "      <td>0.404904</td>\n",
       "      <td>0.364666</td>\n",
       "      <td>-1.870725</td>\n",
       "      <td>-1.438761</td>\n",
       "      <td>0.382801</td>\n",
       "      <td>0.290681</td>\n",
       "    </tr>\n",
       "    <tr>\n",
       "      <th>3</th>\n",
       "      <td>Afghanistan</td>\n",
       "      <td>2019</td>\n",
       "      <td>2.375092</td>\n",
       "      <td>7.458469</td>\n",
       "      <td>0.419973</td>\n",
       "      <td>52.400002</td>\n",
       "      <td>0.393656</td>\n",
       "      <td>-0.096549</td>\n",
       "      <td>0.923849</td>\n",
       "      <td>0.351387</td>\n",
       "      <td>0.502474</td>\n",
       "      <td>0.341482</td>\n",
       "      <td>-1.874237</td>\n",
       "      <td>-1.424542</td>\n",
       "      <td>0.382801</td>\n",
       "      <td>0.374930</td>\n",
       "    </tr>\n",
       "    <tr>\n",
       "      <th>4</th>\n",
       "      <td>Albania</td>\n",
       "      <td>2016</td>\n",
       "      <td>4.511101</td>\n",
       "      <td>9.337564</td>\n",
       "      <td>0.638411</td>\n",
       "      <td>68.099998</td>\n",
       "      <td>0.729819</td>\n",
       "      <td>-0.017473</td>\n",
       "      <td>0.901071</td>\n",
       "      <td>0.675244</td>\n",
       "      <td>0.321706</td>\n",
       "      <td>0.400910</td>\n",
       "      <td>0.257297</td>\n",
       "      <td>-0.132960</td>\n",
       "      <td>0.303250</td>\n",
       "      <td>0.416540</td>\n",
       "    </tr>\n",
       "    <tr>\n",
       "      <th>5</th>\n",
       "      <td>Albania</td>\n",
       "      <td>2017</td>\n",
       "      <td>4.639548</td>\n",
       "      <td>9.376133</td>\n",
       "      <td>0.637698</td>\n",
       "      <td>68.400002</td>\n",
       "      <td>0.749611</td>\n",
       "      <td>-0.029357</td>\n",
       "      <td>0.876135</td>\n",
       "      <td>0.669241</td>\n",
       "      <td>0.333884</td>\n",
       "      <td>0.457738</td>\n",
       "      <td>0.290326</td>\n",
       "      <td>-0.128311</td>\n",
       "      <td>0.303250</td>\n",
       "      <td>0.410488</td>\n",
       "    </tr>\n",
       "    <tr>\n",
       "      <th>6</th>\n",
       "      <td>Albania</td>\n",
       "      <td>2018</td>\n",
       "      <td>5.004403</td>\n",
       "      <td>9.417863</td>\n",
       "      <td>0.683592</td>\n",
       "      <td>68.699997</td>\n",
       "      <td>0.824212</td>\n",
       "      <td>0.008337</td>\n",
       "      <td>0.899129</td>\n",
       "      <td>0.713300</td>\n",
       "      <td>0.318997</td>\n",
       "      <td>0.435338</td>\n",
       "      <td>0.294235</td>\n",
       "      <td>-0.129403</td>\n",
       "      <td>0.303250</td>\n",
       "      <td>0.456174</td>\n",
       "    </tr>\n",
       "    <tr>\n",
       "      <th>7</th>\n",
       "      <td>Albania</td>\n",
       "      <td>2019</td>\n",
       "      <td>4.995318</td>\n",
       "      <td>9.456569</td>\n",
       "      <td>0.686365</td>\n",
       "      <td>69.000000</td>\n",
       "      <td>0.777351</td>\n",
       "      <td>-0.100784</td>\n",
       "      <td>0.914284</td>\n",
       "      <td>0.681080</td>\n",
       "      <td>0.273827</td>\n",
       "      <td>0.336628</td>\n",
       "      <td>0.280619</td>\n",
       "      <td>-0.130225</td>\n",
       "      <td>0.303250</td>\n",
       "      <td>0.397716</td>\n",
       "    </tr>\n",
       "    <tr>\n",
       "      <th>8</th>\n",
       "      <td>Algeria</td>\n",
       "      <td>2016</td>\n",
       "      <td>5.340854</td>\n",
       "      <td>9.542514</td>\n",
       "      <td>0.748588</td>\n",
       "      <td>65.500000</td>\n",
       "      <td>0.468378</td>\n",
       "      <td>-0.124082</td>\n",
       "      <td>0.733029</td>\n",
       "      <td>0.660510</td>\n",
       "      <td>0.377112</td>\n",
       "      <td>0.496354</td>\n",
       "      <td>-0.980347</td>\n",
       "      <td>-0.809583</td>\n",
       "      <td>0.276000</td>\n",
       "      <td>0.604617</td>\n",
       "    </tr>\n",
       "    <tr>\n",
       "      <th>9</th>\n",
       "      <td>Algeria</td>\n",
       "      <td>2017</td>\n",
       "      <td>5.248912</td>\n",
       "      <td>9.537937</td>\n",
       "      <td>0.806754</td>\n",
       "      <td>65.699997</td>\n",
       "      <td>0.436670</td>\n",
       "      <td>-0.187750</td>\n",
       "      <td>0.699774</td>\n",
       "      <td>0.641980</td>\n",
       "      <td>0.288710</td>\n",
       "      <td>0.496354</td>\n",
       "      <td>-0.910273</td>\n",
       "      <td>-0.813394</td>\n",
       "      <td>0.276000</td>\n",
       "      <td>0.527556</td>\n",
       "    </tr>\n",
       "  </tbody>\n",
       "</table>\n",
       "</div>"
      ],
      "text/plain": [
       "  Country name  year  Life Ladder  Log GDP per capita  Social support  \\\n",
       "0  Afghanistan  2016     4.220169            7.471376        0.559072   \n",
       "1  Afghanistan  2017     2.661718            7.472197        0.490880   \n",
       "2  Afghanistan  2018     2.694303            7.458603        0.507516   \n",
       "3  Afghanistan  2019     2.375092            7.458469        0.419973   \n",
       "4      Albania  2016     4.511101            9.337564        0.638411   \n",
       "5      Albania  2017     4.639548            9.376133        0.637698   \n",
       "6      Albania  2018     5.004403            9.417863        0.683592   \n",
       "7      Albania  2019     4.995318            9.456569        0.686365   \n",
       "8      Algeria  2016     5.340854            9.542514        0.748588   \n",
       "9      Algeria  2017     5.248912            9.537937        0.806754   \n",
       "\n",
       "   Healthy life expectancy at birth  Freedom to make life choices  Generosity  \\\n",
       "0                         53.000000                      0.522566    0.053188   \n",
       "1                         52.799999                      0.427011   -0.110382   \n",
       "2                         52.599998                      0.373536   -0.082319   \n",
       "3                         52.400002                      0.393656   -0.096549   \n",
       "4                         68.099998                      0.729819   -0.017473   \n",
       "5                         68.400002                      0.749611   -0.029357   \n",
       "6                         68.699997                      0.824212    0.008337   \n",
       "7                         69.000000                      0.777351   -0.100784   \n",
       "8                         65.500000                      0.468378   -0.124082   \n",
       "9                         65.699997                      0.436670   -0.187750   \n",
       "\n",
       "   Perceptions of corruption  Positive affect  Negative affect  \\\n",
       "0                   0.793246         0.564953         0.348332   \n",
       "1                   0.954393         0.496349         0.371326   \n",
       "2                   0.927606         0.424125         0.404904   \n",
       "3                   0.923849         0.351387         0.502474   \n",
       "4                   0.901071         0.675244         0.321706   \n",
       "5                   0.876135         0.669241         0.333884   \n",
       "6                   0.899129         0.713300         0.318997   \n",
       "7                   0.914284         0.681080         0.273827   \n",
       "8                   0.733029         0.660510         0.377112   \n",
       "9                   0.699774         0.641980         0.288710   \n",
       "\n",
       "   Confidence in national government  Democratic Quality  Delivery Quality  \\\n",
       "0                           0.324990           -1.855448         -1.394648   \n",
       "1                           0.261179           -1.896539         -1.440218   \n",
       "2                           0.364666           -1.870725         -1.438761   \n",
       "3                           0.341482           -1.874237         -1.424542   \n",
       "4                           0.400910            0.257297         -0.132960   \n",
       "5                           0.457738            0.290326         -0.128311   \n",
       "6                           0.435338            0.294235         -0.129403   \n",
       "7                           0.336628            0.280619         -0.130225   \n",
       "8                           0.496354           -0.980347         -0.809583   \n",
       "9                           0.496354           -0.910273         -0.813394   \n",
       "\n",
       "   GINI index (World Bank estimate), average 2000-2017, unbalanced panel  \\\n",
       "0                                           0.382801                       \n",
       "1                                           0.382801                       \n",
       "2                                           0.382801                       \n",
       "3                                           0.382801                       \n",
       "4                                           0.303250                       \n",
       "5                                           0.303250                       \n",
       "6                                           0.303250                       \n",
       "7                                           0.303250                       \n",
       "8                                           0.276000                       \n",
       "9                                           0.276000                       \n",
       "\n",
       "   gini of household income reported in Gallup, by wp5-year  \n",
       "0                                           0.418629         \n",
       "1                                           0.286599         \n",
       "2                                           0.290681         \n",
       "3                                           0.374930         \n",
       "4                                           0.416540         \n",
       "5                                           0.410488         \n",
       "6                                           0.456174         \n",
       "7                                           0.397716         \n",
       "8                                           0.604617         \n",
       "9                                           0.527556         "
      ]
     },
     "execution_count": 8,
     "metadata": {},
     "output_type": "execute_result"
    }
   ],
   "source": [
    "df.head(10)"
   ]
  },
  {
   "cell_type": "code",
   "execution_count": 9,
   "metadata": {},
   "outputs": [
    {
     "data": {
      "text/plain": [
       "Index(['Country name', 'year', 'Life Ladder', 'Log GDP per capita',\n",
       "       'Social support', 'Healthy life expectancy at birth',\n",
       "       'Freedom to make life choices', 'Generosity',\n",
       "       'Perceptions of corruption', 'Positive affect', 'Negative affect',\n",
       "       'Confidence in national government', 'Democratic Quality',\n",
       "       'Delivery Quality',\n",
       "       'GINI index (World Bank estimate), average 2000-2017, unbalanced panel',\n",
       "       'gini of household income reported in Gallup, by wp5-year'],\n",
       "      dtype='object')"
      ]
     },
     "execution_count": 9,
     "metadata": {},
     "output_type": "execute_result"
    }
   ],
   "source": [
    "df.columns"
   ]
  },
  {
   "cell_type": "code",
   "execution_count": 10,
   "metadata": {},
   "outputs": [],
   "source": [
    "columns_plot_list = ['Log GDP per capita',\n",
    "       'Social support', 'Healthy life expectancy at birth',\n",
    "       'Freedom to make life choices', 'Generosity',\n",
    "       'Perceptions of corruption', 'Positive affect', 'Negative affect',\n",
    "       'Confidence in national government', 'Democratic Quality',\n",
    "       'Delivery Quality','gini of household income reported in Gallup, by wp5-year']"
   ]
  },
  {
   "cell_type": "code",
   "execution_count": 14,
   "metadata": {},
   "outputs": [],
   "source": [
    "import matplotlib.pyplot as plt\n",
    "import seaborn as sns"
   ]
  },
  {
   "cell_type": "markdown",
   "metadata": {},
   "source": [
    "#### Constructing Box Plots to visualize the variation of all features for different years and decide appropriate intervals for discritization"
   ]
  },
  {
   "cell_type": "code",
   "execution_count": 17,
   "metadata": {},
   "outputs": [
    {
     "name": "stderr",
     "output_type": "stream",
     "text": [
      "/home/siddharth/anaconda3/lib/python3.7/site-packages/ipykernel_launcher.py:14: UserWarning: Tight layout not applied. tight_layout cannot make axes height small enough to accommodate all axes decorations\n",
      "  \n"
     ]
    },
    {
     "data": {
      "image/png": "[encoded data removed]",
      "text/plain": [
       "<Figure size 432x288 with 12 Axes>"
      ]
     },
     "metadata": {
      "needs_background": "light"
     },
     "output_type": "display_data"
    }
   ],
   "source": [
    "fig,ax = plt.subplots(ncols=3, nrows=4) #, constrained_layout=True)\n",
    "sns.boxplot(x=\"year\", y='Log GDP per capita', data=df,ax=ax[0,0]) #row=0, col=0\n",
    "sns.boxplot(x=\"year\", y='Social support', data=df,ax=ax[0,1])\n",
    "sns.boxplot(x=\"year\", y='Healthy life expectancy at birth', data=df,ax=ax[0,2])\n",
    "sns.boxplot(x=\"year\", y='Freedom to make life choices', data=df,ax=ax[1,0])\n",
    "sns.boxplot(x=\"year\", y='Generosity', data=df,ax=ax[1,1])\n",
    "sns.boxplot(x=\"year\", y='Perceptions of corruption', data=df,ax=ax[1,2])\n",
    "sns.boxplot(x=\"year\", y='Positive affect', data=df,ax=ax[2,0])\n",
    "sns.boxplot(x=\"year\", y='Negative affect', data=df,ax=ax[2,1])\n",
    "sns.boxplot(x=\"year\", y='Confidence in national government', data=df,ax=ax[2,2])\n",
    "sns.boxplot(x=\"year\", y='Democratic Quality', data=df,ax=ax[3,0])\n",
    "sns.boxplot(x=\"year\", y='Delivery Quality', data=df,ax=ax[3,1])\n",
    "sns.boxplot(x=\"year\", y='gini of household income reported in Gallup, by wp5-year', data=df,ax=ax[3,2])\n",
    "plt.tight_layout()\n",
    "plt.show()"
   ]
  },
  {
   "cell_type": "code",
   "execution_count": null,
   "metadata": {},
   "outputs": [],
   "source": [
    "ax = sns.boxplot(x=\"day\", y=\"total_bill\", data=tips)"
   ]
  },
  {
   "cell_type": "code",
   "execution_count": 20,
   "metadata": {},
   "outputs": [
    {
     "data": {
      "image/png": "[encoded data removed]",
      "text/plain": [
       "<Figure size 432x288 with 1 Axes>"
      ]
     },
     "metadata": {
      "needs_background": "light"
     },
     "output_type": "display_data"
    }
   ],
   "source": [
    "sns.boxplot(x=\"year\", y='Log GDP per capita', data=df)\n",
    "plt.savefig('1.jpg')"
   ]
  },
  {
   "cell_type": "code",
   "execution_count": 21,
   "metadata": {},
   "outputs": [
    {
     "data": {
      "image/png": "[encoded data removed]",
      "text/plain": [
       "<Figure size 432x288 with 1 Axes>"
      ]
     },
     "metadata": {
      "needs_background": "light"
     },
     "output_type": "display_data"
    }
   ],
   "source": [
    "sns.boxplot(x=\"year\", y='Social support', data=df)\n",
    "plt.savefig('2.jpg')"
   ]
  },
  {
   "cell_type": "code",
   "execution_count": 22,
   "metadata": {},
   "outputs": [
    {
     "data": {
      "image/png": "[encoded data removed]",
      "text/plain": [
       "<Figure size 432x288 with 1 Axes>"
      ]
     },
     "metadata": {
      "needs_background": "light"
     },
     "output_type": "display_data"
    }
   ],
   "source": [
    "sns.boxplot(x=\"year\", y='Healthy life expectancy at birth', data=df)\n",
    "plt.savefig('3.jpg')"
   ]
  },
  {
   "cell_type": "code",
   "execution_count": 23,
   "metadata": {},
   "outputs": [
    {
     "data": {
      "image/png": "[encoded data removed]",
      "text/plain": [
       "<Figure size 432x288 with 1 Axes>"
      ]
     },
     "metadata": {
      "needs_background": "light"
     },
     "output_type": "display_data"
    }
   ],
   "source": [
    "sns.boxplot(x=\"year\", y='Freedom to make life choices', data=df)\n",
    "plt.savefig('4.jpg')"
   ]
  },
  {
   "cell_type": "code",
   "execution_count": 24,
   "metadata": {},
   "outputs": [
    {
     "data": {
      "image/png": "[encoded data removed]",
      "text/plain": [
       "<Figure size 432x288 with 1 Axes>"
      ]
     },
     "metadata": {
      "needs_background": "light"
     },
     "output_type": "display_data"
    }
   ],
   "source": [
    "sns.boxplot(x=\"year\", y='Generosity', data=df)\n",
    "plt.savefig('5.jpg')"
   ]
  },
  {
   "cell_type": "code",
   "execution_count": 25,
   "metadata": {},
   "outputs": [
    {
     "data": {
      "image/png": "[encoded data removed]",
      "text/plain": [
       "<Figure size 432x288 with 1 Axes>"
      ]
     },
     "metadata": {
      "needs_background": "light"
     },
     "output_type": "display_data"
    }
   ],
   "source": [
    "sns.boxplot(x=\"year\", y='Perceptions of corruption', data=df)\n",
    "plt.savefig('6.jpg')"
   ]
  },
  {
   "cell_type": "code",
   "execution_count": 26,
   "metadata": {},
   "outputs": [
    {
     "data": {
      "image/png": "[encoded data removed]",
      "text/plain": [
       "<Figure size 432x288 with 1 Axes>"
      ]
     },
     "metadata": {
      "needs_background": "light"
     },
     "output_type": "display_data"
    }
   ],
   "source": [
    "sns.boxplot(x=\"year\", y='Positive affect', data=df)\n",
    "plt.savefig('7.jpg')"
   ]
  },
  {
   "cell_type": "code",
   "execution_count": 27,
   "metadata": {},
   "outputs": [
    {
     "data": {
      "image/png": "[encoded data removed]",
      "text/plain": [
       "<Figure size 432x288 with 1 Axes>"
      ]
     },
     "metadata": {
      "needs_background": "light"
     },
     "output_type": "display_data"
    }
   ],
   "source": [
    "sns.boxplot(x=\"year\", y='Negative affect', data=df)\n",
    "plt.savefig('8.jpg')"
   ]
  },
  {
   "cell_type": "code",
   "execution_count": 28,
   "metadata": {},
   "outputs": [
    {
     "data": {
      "image/png": "[encoded data removed]",
      "text/plain": [
       "<Figure size 432x288 with 1 Axes>"
      ]
     },
     "metadata": {
      "needs_background": "light"
     },
     "output_type": "display_data"
    }
   ],
   "source": [
    "sns.boxplot(x=\"year\", y='Confidence in national government', data=df)\n",
    "plt.savefig('9.jpg')"
   ]
  },
  {
   "cell_type": "code",
   "execution_count": 29,
   "metadata": {},
   "outputs": [
    {
     "data": {
      "image/png": "[encoded data removed]",
      "text/plain": [
       "<Figure size 432x288 with 1 Axes>"
      ]
     },
     "metadata": {
      "needs_background": "light"
     },
     "output_type": "display_data"
    }
   ],
   "source": [
    "sns.boxplot(x=\"year\", y='Democratic Quality', data=df)\n",
    "plt.savefig('10.jpg')"
   ]
  },
  {
   "cell_type": "code",
   "execution_count": 30,
   "metadata": {},
   "outputs": [
    {
     "data": {
      "image/png": "[encoded data removed]",
      "text/plain": [
       "<Figure size 432x288 with 1 Axes>"
      ]
     },
     "metadata": {
      "needs_background": "light"
     },
     "output_type": "display_data"
    }
   ],
   "source": [
    "sns.boxplot(x=\"year\", y='Delivery Quality', data=df)\n",
    "plt.savefig('11.jpg')"
   ]
  },
  {
   "cell_type": "code",
   "execution_count": 31,
   "metadata": {},
   "outputs": [
    {
     "data": {
      "image/png": "[encoded data removed]",
      "text/plain": [
       "<Figure size 432x288 with 1 Axes>"
      ]
     },
     "metadata": {
      "needs_background": "light"
     },
     "output_type": "display_data"
    }
   ],
   "source": [
    "sns.boxplot(x=\"year\", y='gini of household income reported in Gallup, by wp5-year', data=df)\n",
    "plt.savefig('12.jpg')"
   ]
  },
  {
   "cell_type": "code",
   "execution_count": 37,
   "metadata": {},
   "outputs": [
    {
     "data": {
      "text/html": [
       "<div>\n",
       "<style scoped>\n",
       "    .dataframe tbody tr th:only-of-type {\n",
       "        vertical-align: middle;\n",
       "    }\n",
       "\n",
       "    .dataframe tbody tr th {\n",
       "        vertical-align: top;\n",
       "    }\n",
       "\n",
       "    .dataframe thead th {\n",
       "        text-align: right;\n",
       "    }\n",
       "</style>\n",
       "<table border=\"1\" class=\"dataframe\">\n",
       "  <thead>\n",
       "    <tr style=\"text-align: right;\">\n",
       "      <th></th>\n",
       "      <th>Log GDP per capita</th>\n",
       "      <th>Social support</th>\n",
       "      <th>Healthy life expectancy at birth</th>\n",
       "      <th>Freedom to make life choices</th>\n",
       "      <th>Generosity</th>\n",
       "      <th>Perceptions of corruption</th>\n",
       "      <th>Positive affect</th>\n",
       "      <th>Negative affect</th>\n",
       "      <th>Confidence in national government</th>\n",
       "      <th>Democratic Quality</th>\n",
       "      <th>Delivery Quality</th>\n",
       "      <th>gini of household income reported in Gallup, by wp5-year</th>\n",
       "    </tr>\n",
       "  </thead>\n",
       "  <tbody>\n",
       "    <tr>\n",
       "      <th>count</th>\n",
       "      <td>550.000000</td>\n",
       "      <td>550.000000</td>\n",
       "      <td>550.000000</td>\n",
       "      <td>550.000000</td>\n",
       "      <td>550.000000</td>\n",
       "      <td>550.000000</td>\n",
       "      <td>550.000000</td>\n",
       "      <td>550.000000</td>\n",
       "      <td>550.000000</td>\n",
       "      <td>550.000000</td>\n",
       "      <td>550.000000</td>\n",
       "      <td>550.000000</td>\n",
       "    </tr>\n",
       "    <tr>\n",
       "      <th>mean</th>\n",
       "      <td>9.336952</td>\n",
       "      <td>0.815402</td>\n",
       "      <td>64.616917</td>\n",
       "      <td>0.782398</td>\n",
       "      <td>-0.014331</td>\n",
       "      <td>0.731486</td>\n",
       "      <td>0.708674</td>\n",
       "      <td>0.287595</td>\n",
       "      <td>0.496354</td>\n",
       "      <td>-0.082075</td>\n",
       "      <td>0.034980</td>\n",
       "      <td>0.455401</td>\n",
       "    </tr>\n",
       "    <tr>\n",
       "      <th>std</th>\n",
       "      <td>1.145558</td>\n",
       "      <td>0.114528</td>\n",
       "      <td>6.669943</td>\n",
       "      <td>0.121467</td>\n",
       "      <td>0.157533</td>\n",
       "      <td>0.182132</td>\n",
       "      <td>0.107277</td>\n",
       "      <td>0.087842</td>\n",
       "      <td>0.194479</td>\n",
       "      <td>0.854766</td>\n",
       "      <td>0.971674</td>\n",
       "      <td>0.111433</td>\n",
       "    </tr>\n",
       "    <tr>\n",
       "      <th>min</th>\n",
       "      <td>6.815671</td>\n",
       "      <td>0.419973</td>\n",
       "      <td>46.599998</td>\n",
       "      <td>0.303540</td>\n",
       "      <td>-0.331775</td>\n",
       "      <td>0.047311</td>\n",
       "      <td>0.321690</td>\n",
       "      <td>0.092696</td>\n",
       "      <td>0.079710</td>\n",
       "      <td>-2.376622</td>\n",
       "      <td>-1.930506</td>\n",
       "      <td>0.200969</td>\n",
       "    </tr>\n",
       "    <tr>\n",
       "      <th>25%</th>\n",
       "      <td>8.409945</td>\n",
       "      <td>0.749666</td>\n",
       "      <td>59.599998</td>\n",
       "      <td>0.713350</td>\n",
       "      <td>-0.133468</td>\n",
       "      <td>0.689682</td>\n",
       "      <td>0.632502</td>\n",
       "      <td>0.218379</td>\n",
       "      <td>0.348006</td>\n",
       "      <td>-0.685279</td>\n",
       "      <td>-0.680675</td>\n",
       "      <td>0.372858</td>\n",
       "    </tr>\n",
       "    <tr>\n",
       "      <th>50%</th>\n",
       "      <td>9.487732</td>\n",
       "      <td>0.838698</td>\n",
       "      <td>66.099998</td>\n",
       "      <td>0.799329</td>\n",
       "      <td>-0.039111</td>\n",
       "      <td>0.788558</td>\n",
       "      <td>0.720989</td>\n",
       "      <td>0.277309</td>\n",
       "      <td>0.496130</td>\n",
       "      <td>-0.149178</td>\n",
       "      <td>-0.174117</td>\n",
       "      <td>0.435504</td>\n",
       "    </tr>\n",
       "    <tr>\n",
       "      <th>75%</th>\n",
       "      <td>10.293032</td>\n",
       "      <td>0.908227</td>\n",
       "      <td>69.000000</td>\n",
       "      <td>0.879313</td>\n",
       "      <td>0.081081</td>\n",
       "      <td>0.851439</td>\n",
       "      <td>0.793320</td>\n",
       "      <td>0.350526</td>\n",
       "      <td>0.619131</td>\n",
       "      <td>0.672118</td>\n",
       "      <td>0.741506</td>\n",
       "      <td>0.538197</td>\n",
       "    </tr>\n",
       "    <tr>\n",
       "      <th>max</th>\n",
       "      <td>11.462070</td>\n",
       "      <td>0.984940</td>\n",
       "      <td>77.099998</td>\n",
       "      <td>0.985178</td>\n",
       "      <td>0.661027</td>\n",
       "      <td>0.969483</td>\n",
       "      <td>0.924561</td>\n",
       "      <td>0.590539</td>\n",
       "      <td>0.993604</td>\n",
       "      <td>1.582492</td>\n",
       "      <td>2.095614</td>\n",
       "      <td>0.852040</td>\n",
       "    </tr>\n",
       "  </tbody>\n",
       "</table>\n",
       "</div>"
      ],
      "text/plain": [
       "       Log GDP per capita  Social support  Healthy life expectancy at birth  \\\n",
       "count          550.000000      550.000000                        550.000000   \n",
       "mean             9.336952        0.815402                         64.616917   \n",
       "std              1.145558        0.114528                          6.669943   \n",
       "min              6.815671        0.419973                         46.599998   \n",
       "25%              8.409945        0.749666                         59.599998   \n",
       "50%              9.487732        0.838698                         66.099998   \n",
       "75%             10.293032        0.908227                         69.000000   \n",
       "max             11.462070        0.984940                         77.099998   \n",
       "\n",
       "       Freedom to make life choices  Generosity  Perceptions of corruption  \\\n",
       "count                    550.000000  550.000000                 550.000000   \n",
       "mean                       0.782398   -0.014331                   0.731486   \n",
       "std                        0.121467    0.157533                   0.182132   \n",
       "min                        0.303540   -0.331775                   0.047311   \n",
       "25%                        0.713350   -0.133468                   0.689682   \n",
       "50%                        0.799329   -0.039111                   0.788558   \n",
       "75%                        0.879313    0.081081                   0.851439   \n",
       "max                        0.985178    0.661027                   0.969483   \n",
       "\n",
       "       Positive affect  Negative affect  Confidence in national government  \\\n",
       "count       550.000000       550.000000                         550.000000   \n",
       "mean          0.708674         0.287595                           0.496354   \n",
       "std           0.107277         0.087842                           0.194479   \n",
       "min           0.321690         0.092696                           0.079710   \n",
       "25%           0.632502         0.218379                           0.348006   \n",
       "50%           0.720989         0.277309                           0.496130   \n",
       "75%           0.793320         0.350526                           0.619131   \n",
       "max           0.924561         0.590539                           0.993604   \n",
       "\n",
       "       Democratic Quality  Delivery Quality  \\\n",
       "count          550.000000        550.000000   \n",
       "mean            -0.082075          0.034980   \n",
       "std              0.854766          0.971674   \n",
       "min             -2.376622         -1.930506   \n",
       "25%             -0.685279         -0.680675   \n",
       "50%             -0.149178         -0.174117   \n",
       "75%              0.672118          0.741506   \n",
       "max              1.582492          2.095614   \n",
       "\n",
       "       gini of household income reported in Gallup, by wp5-year  \n",
       "count                                         550.000000         \n",
       "mean                                            0.455401         \n",
       "std                                             0.111433         \n",
       "min                                             0.200969         \n",
       "25%                                             0.372858         \n",
       "50%                                             0.435504         \n",
       "75%                                             0.538197         \n",
       "max                                             0.852040         "
      ]
     },
     "execution_count": 37,
     "metadata": {},
     "output_type": "execute_result"
    }
   ],
   "source": [
    "df[columns_plot_list].describe()"
   ]
  },
  {
   "cell_type": "code",
   "execution_count": 49,
   "metadata": {},
   "outputs": [
    {
     "name": "stderr",
     "output_type": "stream",
     "text": [
      "/home/siddharth/anaconda3/lib/python3.7/site-packages/tensorflow/python/framework/dtypes.py:526: FutureWarning: Passing (type, 1) or '1type' as a synonym of type is deprecated; in a future version of numpy, it will be understood as (type, (1,)) / '(1,)type'.\n",
      "  _np_qint8 = np.dtype([(\"qint8\", np.int8, 1)])\n",
      "/home/siddharth/anaconda3/lib/python3.7/site-packages/tensorflow/python/framework/dtypes.py:527: FutureWarning: Passing (type, 1) or '1type' as a synonym of type is deprecated; in a future version of numpy, it will be understood as (type, (1,)) / '(1,)type'.\n",
      "  _np_quint8 = np.dtype([(\"quint8\", np.uint8, 1)])\n",
      "/home/siddharth/anaconda3/lib/python3.7/site-packages/tensorflow/python/framework/dtypes.py:528: FutureWarning: Passing (type, 1) or '1type' as a synonym of type is deprecated; in a future version of numpy, it will be understood as (type, (1,)) / '(1,)type'.\n",
      "  _np_qint16 = np.dtype([(\"qint16\", np.int16, 1)])\n",
      "/home/siddharth/anaconda3/lib/python3.7/site-packages/tensorflow/python/framework/dtypes.py:529: FutureWarning: Passing (type, 1) or '1type' as a synonym of type is deprecated; in a future version of numpy, it will be understood as (type, (1,)) / '(1,)type'.\n",
      "  _np_quint16 = np.dtype([(\"quint16\", np.uint16, 1)])\n",
      "/home/siddharth/anaconda3/lib/python3.7/site-packages/tensorflow/python/framework/dtypes.py:530: FutureWarning: Passing (type, 1) or '1type' as a synonym of type is deprecated; in a future version of numpy, it will be understood as (type, (1,)) / '(1,)type'.\n",
      "  _np_qint32 = np.dtype([(\"qint32\", np.int32, 1)])\n",
      "/home/siddharth/anaconda3/lib/python3.7/site-packages/tensorflow/python/framework/dtypes.py:535: FutureWarning: Passing (type, 1) or '1type' as a synonym of type is deprecated; in a future version of numpy, it will be understood as (type, (1,)) / '(1,)type'.\n",
      "  np_resource = np.dtype([(\"resource\", np.ubyte, 1)])\n"
     ]
    }
   ],
   "source": [
    "from neupy import algorithms"
   ]
  },
  {
   "cell_type": "code",
   "execution_count": 40,
   "metadata": {},
   "outputs": [
    {
     "name": "stderr",
     "output_type": "stream",
     "text": [
      "/home/siddharth/anaconda3/lib/python3.7/site-packages/ipykernel_launcher.py:2: SettingWithCopyWarning: \n",
      "A value is trying to be set on a copy of a slice from a DataFrame.\n",
      "Try using .loc[row_indexer,col_indexer] = value instead\n",
      "\n",
      "See the caveats in the documentation: https://pandas.pydata.org/pandas-docs/stable/user_guide/indexing.html#returning-a-view-versus-a-copy\n",
      "  \n"
     ]
    },
    {
     "data": {
      "text/html": [
       "<div>\n",
       "<style scoped>\n",
       "    .dataframe tbody tr th:only-of-type {\n",
       "        vertical-align: middle;\n",
       "    }\n",
       "\n",
       "    .dataframe tbody tr th {\n",
       "        vertical-align: top;\n",
       "    }\n",
       "\n",
       "    .dataframe thead th {\n",
       "        text-align: right;\n",
       "    }\n",
       "</style>\n",
       "<table border=\"1\" class=\"dataframe\">\n",
       "  <thead>\n",
       "    <tr style=\"text-align: right;\">\n",
       "      <th></th>\n",
       "      <th>Log GDP per capita</th>\n",
       "      <th>Social support</th>\n",
       "      <th>Healthy life expectancy at birth</th>\n",
       "      <th>Freedom to make life choices</th>\n",
       "      <th>Generosity</th>\n",
       "      <th>Perceptions of corruption</th>\n",
       "      <th>Positive affect</th>\n",
       "      <th>Negative affect</th>\n",
       "      <th>Confidence in national government</th>\n",
       "      <th>Democratic Quality</th>\n",
       "      <th>Delivery Quality</th>\n",
       "      <th>gini of household income reported in Gallup, by wp5-year</th>\n",
       "      <th>Life Ladder</th>\n",
       "    </tr>\n",
       "  </thead>\n",
       "  <tbody>\n",
       "    <tr>\n",
       "      <th>0</th>\n",
       "      <td>7.471376</td>\n",
       "      <td>0.559072</td>\n",
       "      <td>53.000000</td>\n",
       "      <td>0.522566</td>\n",
       "      <td>0.053188</td>\n",
       "      <td>0.793246</td>\n",
       "      <td>0.564953</td>\n",
       "      <td>0.348332</td>\n",
       "      <td>0.324990</td>\n",
       "      <td>-1.855448</td>\n",
       "      <td>-1.394648</td>\n",
       "      <td>0.418629</td>\n",
       "      <td>4.220169</td>\n",
       "    </tr>\n",
       "    <tr>\n",
       "      <th>1</th>\n",
       "      <td>7.472197</td>\n",
       "      <td>0.490880</td>\n",
       "      <td>52.799999</td>\n",
       "      <td>0.427011</td>\n",
       "      <td>-0.110382</td>\n",
       "      <td>0.954393</td>\n",
       "      <td>0.496349</td>\n",
       "      <td>0.371326</td>\n",
       "      <td>0.261179</td>\n",
       "      <td>-1.896539</td>\n",
       "      <td>-1.440218</td>\n",
       "      <td>0.286599</td>\n",
       "      <td>2.661718</td>\n",
       "    </tr>\n",
       "    <tr>\n",
       "      <th>2</th>\n",
       "      <td>7.458603</td>\n",
       "      <td>0.507516</td>\n",
       "      <td>52.599998</td>\n",
       "      <td>0.373536</td>\n",
       "      <td>-0.082319</td>\n",
       "      <td>0.927606</td>\n",
       "      <td>0.424125</td>\n",
       "      <td>0.404904</td>\n",
       "      <td>0.364666</td>\n",
       "      <td>-1.870725</td>\n",
       "      <td>-1.438761</td>\n",
       "      <td>0.290681</td>\n",
       "      <td>2.694303</td>\n",
       "    </tr>\n",
       "    <tr>\n",
       "      <th>3</th>\n",
       "      <td>7.458469</td>\n",
       "      <td>0.419973</td>\n",
       "      <td>52.400002</td>\n",
       "      <td>0.393656</td>\n",
       "      <td>-0.096549</td>\n",
       "      <td>0.923849</td>\n",
       "      <td>0.351387</td>\n",
       "      <td>0.502474</td>\n",
       "      <td>0.341482</td>\n",
       "      <td>-1.874237</td>\n",
       "      <td>-1.424542</td>\n",
       "      <td>0.374930</td>\n",
       "      <td>2.375092</td>\n",
       "    </tr>\n",
       "    <tr>\n",
       "      <th>4</th>\n",
       "      <td>9.337564</td>\n",
       "      <td>0.638411</td>\n",
       "      <td>68.099998</td>\n",
       "      <td>0.729819</td>\n",
       "      <td>-0.017473</td>\n",
       "      <td>0.901071</td>\n",
       "      <td>0.675244</td>\n",
       "      <td>0.321706</td>\n",
       "      <td>0.400910</td>\n",
       "      <td>0.257297</td>\n",
       "      <td>-0.132960</td>\n",
       "      <td>0.416540</td>\n",
       "      <td>4.511101</td>\n",
       "    </tr>\n",
       "  </tbody>\n",
       "</table>\n",
       "</div>"
      ],
      "text/plain": [
       "   Log GDP per capita  Social support  Healthy life expectancy at birth  \\\n",
       "0            7.471376        0.559072                         53.000000   \n",
       "1            7.472197        0.490880                         52.799999   \n",
       "2            7.458603        0.507516                         52.599998   \n",
       "3            7.458469        0.419973                         52.400002   \n",
       "4            9.337564        0.638411                         68.099998   \n",
       "\n",
       "   Freedom to make life choices  Generosity  Perceptions of corruption  \\\n",
       "0                      0.522566    0.053188                   0.793246   \n",
       "1                      0.427011   -0.110382                   0.954393   \n",
       "2                      0.373536   -0.082319                   0.927606   \n",
       "3                      0.393656   -0.096549                   0.923849   \n",
       "4                      0.729819   -0.017473                   0.901071   \n",
       "\n",
       "   Positive affect  Negative affect  Confidence in national government  \\\n",
       "0         0.564953         0.348332                           0.324990   \n",
       "1         0.496349         0.371326                           0.261179   \n",
       "2         0.424125         0.404904                           0.364666   \n",
       "3         0.351387         0.502474                           0.341482   \n",
       "4         0.675244         0.321706                           0.400910   \n",
       "\n",
       "   Democratic Quality  Delivery Quality  \\\n",
       "0           -1.855448         -1.394648   \n",
       "1           -1.896539         -1.440218   \n",
       "2           -1.870725         -1.438761   \n",
       "3           -1.874237         -1.424542   \n",
       "4            0.257297         -0.132960   \n",
       "\n",
       "   gini of household income reported in Gallup, by wp5-year  Life Ladder  \n",
       "0                                           0.418629            4.220169  \n",
       "1                                           0.286599            2.661718  \n",
       "2                                           0.290681            2.694303  \n",
       "3                                           0.374930            2.375092  \n",
       "4                                           0.416540            4.511101  "
      ]
     },
     "execution_count": 40,
     "metadata": {},
     "output_type": "execute_result"
    }
   ],
   "source": [
    "df_model = df[columns_plot_list]\n",
    "df_model['Life Ladder'] = df['Life Ladder']\n",
    "df_model.head()"
   ]
  },
  {
   "cell_type": "code",
   "execution_count": null,
   "metadata": {},
   "outputs": [],
   "source": []
  },
  {
   "cell_type": "code",
   "execution_count": 91,
   "metadata": {},
   "outputs": [],
   "source": [
    "from sklearn.model_selection import train_test_split\n",
    "from sklearn.preprocessing import minmax_scale\n",
    "dataset = df_model.drop(['Life Ladder'],axis=1)\n",
    "x_train, x_test, y_train, y_test = train_test_split(minmax_scale(dataset),\n",
    "df_model['Life Ladder'],test_size=0.20)\n",
    "\n",
    "nw = algorithms.GRNN(std=0.2, verbose=False)\n",
    "nw.train(x_train, y_train)\n",
    "\n",
    "y_predicted = nw.predict(x_test)\n",
    "#mse = np.mean((y_predicted - y_test) ** 2)\n",
    "#mse\n"
   ]
  },
  {
   "cell_type": "code",
   "execution_count": 92,
   "metadata": {},
   "outputs": [
    {
     "data": {
      "text/plain": [
       "0.9106565359960819"
      ]
     },
     "execution_count": 92,
     "metadata": {},
     "output_type": "execute_result"
    }
   ],
   "source": [
    "from sklearn.metrics import r2_score\n",
    "r2 = r2_score(y_predicted,y_test)\n",
    "r2"
   ]
  },
  {
   "cell_type": "code",
   "execution_count": 93,
   "metadata": {},
   "outputs": [
    {
     "data": {
      "text/plain": [
       "0.2569952628233423"
      ]
     },
     "execution_count": 93,
     "metadata": {},
     "output_type": "execute_result"
    }
   ],
   "source": [
    "from sklearn.metrics import mean_absolute_error\n",
    "mae = mean_absolute_error(y_predicted,y_test)\n",
    "mae"
   ]
  },
  {
   "cell_type": "code",
   "execution_count": 94,
   "metadata": {},
   "outputs": [],
   "source": [
    "from xgboost import XGBRFRegressor"
   ]
  },
  {
   "cell_type": "code",
   "execution_count": 95,
   "metadata": {},
   "outputs": [],
   "source": [
    "model = XGBRFRegressor()\n",
    "model.fit(x_train,y_train)\n",
    "y_predicted = model.predict(x_test)"
   ]
  },
  {
   "cell_type": "code",
   "execution_count": 96,
   "metadata": {},
   "outputs": [
    {
     "data": {
      "text/plain": [
       "0.8296278156119234"
      ]
     },
     "execution_count": 96,
     "metadata": {},
     "output_type": "execute_result"
    }
   ],
   "source": [
    "r2 = r2_score(y_predicted,y_test)\n",
    "r2"
   ]
  },
  {
   "cell_type": "code",
   "execution_count": 97,
   "metadata": {},
   "outputs": [
    {
     "data": {
      "text/plain": [
       "0.3330745285207576"
      ]
     },
     "execution_count": 97,
     "metadata": {},
     "output_type": "execute_result"
    }
   ],
   "source": [
    "from sklearn.metrics import mean_absolute_error\n",
    "mae = mean_absolute_error(y_predicted,y_test)\n",
    "mae"
   ]
  },
  {
   "cell_type": "code",
   "execution_count": 88,
   "metadata": {},
   "outputs": [
    {
     "data": {
      "text/plain": [
       "(440, 12)"
      ]
     },
     "execution_count": 88,
     "metadata": {},
     "output_type": "execute_result"
    }
   ],
   "source": [
    "x_train.shape"
   ]
  },
  {
   "cell_type": "code",
   "execution_count": 89,
   "metadata": {},
   "outputs": [
    {
     "data": {
      "text/plain": [
       "(550, 13)"
      ]
     },
     "execution_count": 89,
     "metadata": {},
     "output_type": "execute_result"
    }
   ],
   "source": [
    "df_model.shape"
   ]
  },
  {
   "cell_type": "code",
   "execution_count": 99,
   "metadata": {},
   "outputs": [
    {
     "name": "stdout",
     "output_type": "stream",
     "text": [
      "Checking whether there is an H2O instance running at http://localhost:54321 ..... not found.\n",
      "Attempting to start a local H2O server...\n",
      "  Java Version: openjdk version \"11.0.7\" 2020-04-14; OpenJDK Runtime Environment (build 11.0.7+10-post-Ubuntu-3ubuntu1); OpenJDK 64-Bit Server VM (build 11.0.7+10-post-Ubuntu-3ubuntu1, mixed mode, sharing)\n",
      "  Starting server from /home/siddharth/anaconda3/lib/python3.7/site-packages/h2o/backend/bin/h2o.jar\n",
      "  Ice root: /tmp/tmpp4cwwof4\n",
      "  JVM stdout: /tmp/tmpp4cwwof4/h2o_siddharth_started_from_python.out\n",
      "  JVM stderr: /tmp/tmpp4cwwof4/h2o_siddharth_started_from_python.err\n",
      "  Server is running at http://127.0.0.1:54321\n",
      "Connecting to H2O server at http://127.0.0.1:54321 ... successful.\n"
     ]
    },
    {
     "data": {
      "text/html": [
       "<div style=\"overflow:auto\"><table style=\"width:50%\"><tr><td>H2O_cluster_uptime:</td>\n",
       "<td>03 secs</td></tr>\n",
       "<tr><td>H2O_cluster_timezone:</td>\n",
       "<td>Asia/Kolkata</td></tr>\n",
       "<tr><td>H2O_data_parsing_timezone:</td>\n",
       "<td>UTC</td></tr>\n",
       "<tr><td>H2O_cluster_version:</td>\n",
       "<td>3.30.0.4</td></tr>\n",
       "<tr><td>H2O_cluster_version_age:</td>\n",
       "<td>1 month and 1 day </td></tr>\n",
       "<tr><td>H2O_cluster_name:</td>\n",
       "<td>H2O_from_python_siddharth_ha5qtx</td></tr>\n",
       "<tr><td>H2O_cluster_total_nodes:</td>\n",
       "<td>1</td></tr>\n",
       "<tr><td>H2O_cluster_free_memory:</td>\n",
       "<td>16 Gb</td></tr>\n",
       "<tr><td>H2O_cluster_total_cores:</td>\n",
       "<td>4</td></tr>\n",
       "<tr><td>H2O_cluster_allowed_cores:</td>\n",
       "<td>4</td></tr>\n",
       "<tr><td>H2O_cluster_status:</td>\n",
       "<td>accepting new members, healthy</td></tr>\n",
       "<tr><td>H2O_connection_url:</td>\n",
       "<td>http://127.0.0.1:54321</td></tr>\n",
       "<tr><td>H2O_connection_proxy:</td>\n",
       "<td>{\"http\": null, \"https\": null}</td></tr>\n",
       "<tr><td>H2O_internal_security:</td>\n",
       "<td>False</td></tr>\n",
       "<tr><td>H2O_API_Extensions:</td>\n",
       "<td>Amazon S3, XGBoost, Algos, AutoML, Core V3, TargetEncoder, Core V4</td></tr>\n",
       "<tr><td>Python_version:</td>\n",
       "<td>3.7.6 final</td></tr></table></div>"
      ],
      "text/plain": [
       "--------------------------  ------------------------------------------------------------------\n",
       "H2O_cluster_uptime:         03 secs\n",
       "H2O_cluster_timezone:       Asia/Kolkata\n",
       "H2O_data_parsing_timezone:  UTC\n",
       "H2O_cluster_version:        3.30.0.4\n",
       "H2O_cluster_version_age:    1 month and 1 day\n",
       "H2O_cluster_name:           H2O_from_python_siddharth_ha5qtx\n",
       "H2O_cluster_total_nodes:    1\n",
       "H2O_cluster_free_memory:    16 Gb\n",
       "H2O_cluster_total_cores:    4\n",
       "H2O_cluster_allowed_cores:  4\n",
       "H2O_cluster_status:         accepting new members, healthy\n",
       "H2O_connection_url:         http://127.0.0.1:54321\n",
       "H2O_connection_proxy:       {\"http\": null, \"https\": null}\n",
       "H2O_internal_security:      False\n",
       "H2O_API_Extensions:         Amazon S3, XGBoost, Algos, AutoML, Core V3, TargetEncoder, Core V4\n",
       "Python_version:             3.7.6 final\n",
       "--------------------------  ------------------------------------------------------------------"
      ]
     },
     "metadata": {},
     "output_type": "display_data"
    }
   ],
   "source": [
    "import h2o\n",
    "from h2o.automl import H2OAutoML\n",
    "h2o.init(max_mem_size='16G')"
   ]
  },
  {
   "cell_type": "code",
   "execution_count": 103,
   "metadata": {},
   "outputs": [],
   "source": [
    "y = df_model['Life Ladder']\n",
    "df_auto = df_model.drop(['Life Ladder'],axis=1)\n",
    "df= df_auto#df = h2o.import_file()"
   ]
  },
  {
   "cell_type": "code",
   "execution_count": 107,
   "metadata": {},
   "outputs": [
    {
     "ename": "IndexError",
     "evalue": "only integers, slices (`:`), ellipsis (`...`), numpy.newaxis (`None`) and integer or boolean arrays are valid indices",
     "output_type": "error",
     "traceback": [
      "\u001b[0;31m---------------------------------------------------------------------------\u001b[0m",
      "\u001b[0;31mIndexError\u001b[0m                                Traceback (most recent call last)",
      "\u001b[0;32m<ipython-input-107-321529220102>\u001b[0m in \u001b[0;36m<module>\u001b[0;34m\u001b[0m\n\u001b[1;32m      1\u001b[0m \u001b[0mdf_train\u001b[0m \u001b[0;34m=\u001b[0m \u001b[0mx_train\u001b[0m\u001b[0;34m\u001b[0m\u001b[0;34m\u001b[0m\u001b[0m\n\u001b[0;32m----> 2\u001b[0;31m \u001b[0mdf_train\u001b[0m\u001b[0;34m[\u001b[0m\u001b[0;34m'Life Ladder'\u001b[0m\u001b[0;34m]\u001b[0m \u001b[0;34m=\u001b[0m \u001b[0my_train\u001b[0m\u001b[0;34m\u001b[0m\u001b[0;34m\u001b[0m\u001b[0m\n\u001b[0m\u001b[1;32m      3\u001b[0m \u001b[0mtrain_h2o\u001b[0m \u001b[0;34m=\u001b[0m \u001b[0mdf_train\u001b[0m\u001b[0;34m\u001b[0m\u001b[0;34m\u001b[0m\u001b[0m\n",
      "\u001b[0;31mIndexError\u001b[0m: only integers, slices (`:`), ellipsis (`...`), numpy.newaxis (`None`) and integer or boolean arrays are valid indices"
     ]
    }
   ],
   "source": [
    "df_train = x_train\n",
    "df_train['Life Ladder'] = y_train\n",
    "train_h2o = df_train"
   ]
  },
  {
   "cell_type": "code",
   "execution_count": 106,
   "metadata": {},
   "outputs": [
    {
     "ename": "H2OTypeError",
     "evalue": "Argument `frame_id` should be a string, got DataFrame      Log GDP per capita  Social support  Healthy life expectancy at birth  \\\n0              7.471376        0.559072                         53.000000   \n1              7.472197        0.490880                         52.799999   \n2              7.458603        0.507516                         52.599998   \n3              7.458469        0.419973                         52.400002   \n4              9.337564        0.638411                         68.099998   \n..                  ...             ...                               ...   \n545            8.224403        0.637894                         55.799999   \n546            7.819675        0.768425                         54.400002   \n547            7.851042        0.754147                         55.000000   \n548            7.896704        0.775388                         55.599998   \n549            7.850442        0.759162                         56.200001   \n\n     Freedom to make life choices  Generosity  Perceptions of corruption  \\\n0                        0.522566    0.053188                   0.793246   \n1                        0.427011   -0.110382                   0.954393   \n2                        0.373536   -0.082319                   0.927606   \n3                        0.393656   -0.096549                   0.923849   \n4                        0.729819   -0.017473                   0.901071   \n..                            ...         ...                        ...   \n545                      0.811040    0.066340                   0.831956   \n546                      0.732971   -0.088488                   0.723612   \n547                      0.752826   -0.091540                   0.751208   \n548                      0.762675   -0.063282                   0.844209   \n549                      0.631908   -0.062325                   0.830652   \n\n     Positive affect  Negative affect  Confidence in national government  \\\n0           0.564953         0.348332                           0.324990   \n1           0.496349         0.371326                           0.261179   \n2           0.424125         0.404904                           0.364666   \n3           0.351387         0.502474                           0.341482   \n4           0.675244         0.321706                           0.400910   \n..               ...              ...                                ...   \n545         0.743407         0.394385                           0.589811   \n546         0.737636         0.208555                           0.699344   \n547         0.806428         0.224051                           0.682647   \n548         0.710119         0.211726                           0.550508   \n549         0.716004         0.235354                           0.456455   \n\n     Democratic Quality  Delivery Quality  \\\n0             -1.855448         -1.394648   \n1             -1.896539         -1.440218   \n2             -1.870725         -1.438761   \n3             -1.874237         -1.424542   \n4              0.257297         -0.132960   \n..                  ...               ...   \n545           -0.088482         -0.484149   \n546           -0.900462         -1.376520   \n547           -0.952548         -1.350873   \n548           -0.920905         -1.323000   \n549           -0.924639         -1.350131   \n\n     gini of household income reported in Gallup, by wp5-year  \n0                                             0.418629         \n1                                             0.286599         \n2                                             0.290681         \n3                                             0.374930         \n4                                             0.416540         \n..                                                 ...         \n545                                           0.556424         \n546                                           0.596690         \n547                                           0.581484         \n548                                           0.541772         \n549                                           0.699588         \n\n[550 rows x 12 columns]",
     "output_type": "error",
     "traceback": [
      "\u001b[0;31m---------------------------------------------------------------------------\u001b[0m",
      "\u001b[0;31mH2OTypeError\u001b[0m                              Traceback (most recent call last)",
      "\u001b[0;32m<ipython-input-106-35294cf8a6ac>\u001b[0m in \u001b[0;36m<module>\u001b[0;34m\u001b[0m\n\u001b[0;32m----> 1\u001b[0;31m \u001b[0mtrain\u001b[0m \u001b[0;34m=\u001b[0m \u001b[0mh2o\u001b[0m\u001b[0;34m.\u001b[0m\u001b[0mframe\u001b[0m\u001b[0;34m(\u001b[0m\u001b[0mdf_auto\u001b[0m\u001b[0;34m)\u001b[0m\u001b[0;34m\u001b[0m\u001b[0;34m\u001b[0m\u001b[0m\n\u001b[0m",
      "\u001b[0;32m~/anaconda3/lib/python3.7/site-packages/h2o/h2o.py\u001b[0m in \u001b[0;36mframe\u001b[0;34m(frame_id)\u001b[0m\n\u001b[1;32m   1254\u001b[0m     \u001b[0;34m>>\u001b[0m\u001b[0;34m>\u001b[0m \u001b[0mframe_summary\u001b[0m\u001b[0;34m\u001b[0m\u001b[0;34m\u001b[0m\u001b[0m\n\u001b[1;32m   1255\u001b[0m     \"\"\"\n\u001b[0;32m-> 1256\u001b[0;31m     \u001b[0massert_is_type\u001b[0m\u001b[0;34m(\u001b[0m\u001b[0mframe_id\u001b[0m\u001b[0;34m,\u001b[0m \u001b[0mstr\u001b[0m\u001b[0;34m)\u001b[0m\u001b[0;34m\u001b[0m\u001b[0;34m\u001b[0m\u001b[0m\n\u001b[0m\u001b[1;32m   1257\u001b[0m     \u001b[0;32mreturn\u001b[0m \u001b[0mapi\u001b[0m\u001b[0;34m(\u001b[0m\u001b[0;34m\"GET /3/Frames/%s\"\u001b[0m \u001b[0;34m%\u001b[0m \u001b[0mframe_id\u001b[0m\u001b[0;34m)\u001b[0m\u001b[0;34m\u001b[0m\u001b[0;34m\u001b[0m\u001b[0m\n\u001b[1;32m   1258\u001b[0m \u001b[0;34m\u001b[0m\u001b[0m\n",
      "\u001b[0;32m~/anaconda3/lib/python3.7/site-packages/h2o/utils/typechecks.py\u001b[0m in \u001b[0;36massert_is_type\u001b[0;34m(var, *types, **kwargs)\u001b[0m\n\u001b[1;32m    455\u001b[0m     \u001b[0mvtn\u001b[0m \u001b[0;34m=\u001b[0m \u001b[0m_get_type_name\u001b[0m\u001b[0;34m(\u001b[0m\u001b[0mtype\u001b[0m\u001b[0;34m(\u001b[0m\u001b[0mvar\u001b[0m\u001b[0;34m)\u001b[0m\u001b[0;34m)\u001b[0m\u001b[0;34m\u001b[0m\u001b[0;34m\u001b[0m\u001b[0m\n\u001b[1;32m    456\u001b[0m     raise H2OTypeError(var_name=vname, var_value=var, var_type_name=vtn, exp_type_name=etn, message=message,\n\u001b[0;32m--> 457\u001b[0;31m                        skip_frames=skip_frames)\n\u001b[0m\u001b[1;32m    458\u001b[0m \u001b[0;34m\u001b[0m\u001b[0m\n\u001b[1;32m    459\u001b[0m \u001b[0;34m\u001b[0m\u001b[0m\n",
      "\u001b[0;31mH2OTypeError\u001b[0m: Argument `frame_id` should be a string, got DataFrame      Log GDP per capita  Social support  Healthy life expectancy at birth  \\\n0              7.471376        0.559072                         53.000000   \n1              7.472197        0.490880                         52.799999   \n2              7.458603        0.507516                         52.599998   \n3              7.458469        0.419973                         52.400002   \n4              9.337564        0.638411                         68.099998   \n..                  ...             ...                               ...   \n545            8.224403        0.637894                         55.799999   \n546            7.819675        0.768425                         54.400002   \n547            7.851042        0.754147                         55.000000   \n548            7.896704        0.775388                         55.599998   \n549            7.850442        0.759162                         56.200001   \n\n     Freedom to make life choices  Generosity  Perceptions of corruption  \\\n0                        0.522566    0.053188                   0.793246   \n1                        0.427011   -0.110382                   0.954393   \n2                        0.373536   -0.082319                   0.927606   \n3                        0.393656   -0.096549                   0.923849   \n4                        0.729819   -0.017473                   0.901071   \n..                            ...         ...                        ...   \n545                      0.811040    0.066340                   0.831956   \n546                      0.732971   -0.088488                   0.723612   \n547                      0.752826   -0.091540                   0.751208   \n548                      0.762675   -0.063282                   0.844209   \n549                      0.631908   -0.062325                   0.830652   \n\n     Positive affect  Negative affect  Confidence in national government  \\\n0           0.564953         0.348332                           0.324990   \n1           0.496349         0.371326                           0.261179   \n2           0.424125         0.404904                           0.364666   \n3           0.351387         0.502474                           0.341482   \n4           0.675244         0.321706                           0.400910   \n..               ...              ...                                ...   \n545         0.743407         0.394385                           0.589811   \n546         0.737636         0.208555                           0.699344   \n547         0.806428         0.224051                           0.682647   \n548         0.710119         0.211726                           0.550508   \n549         0.716004         0.235354                           0.456455   \n\n     Democratic Quality  Delivery Quality  \\\n0             -1.855448         -1.394648   \n1             -1.896539         -1.440218   \n2             -1.870725         -1.438761   \n3             -1.874237         -1.424542   \n4              0.257297         -0.132960   \n..                  ...               ...   \n545           -0.088482         -0.484149   \n546           -0.900462         -1.376520   \n547           -0.952548         -1.350873   \n548           -0.920905         -1.323000   \n549           -0.924639         -1.350131   \n\n     gini of household income reported in Gallup, by wp5-year  \n0                                             0.418629         \n1                                             0.286599         \n2                                             0.290681         \n3                                             0.374930         \n4                                             0.416540         \n..                                                 ...         \n545                                           0.556424         \n546                                           0.596690         \n547                                           0.581484         \n548                                           0.541772         \n549                                           0.699588         \n\n[550 rows x 12 columns]"
     ]
    }
   ],
   "source": [
    "train = h2o.H2OFrame(df_auto)"
   ]
  },
  {
   "cell_type": "code",
   "execution_count": null,
   "metadata": {},
   "outputs": [],
   "source": []
  },
  {
   "cell_type": "code",
   "execution_count": null,
   "metadata": {},
   "outputs": [],
   "source": []
  },
  {
   "cell_type": "code",
   "execution_count": null,
   "metadata": {},
   "outputs": [],
   "source": []
  },
  {
   "cell_type": "code",
   "execution_count": 98,
   "metadata": {},
   "outputs": [],
   "source": [
    "df_model.to_csv('BN_continous_data.csv',index=False)"
   ]
  }
 ],
 "metadata": {
  "kernelspec": {
   "display_name": "Python 3",
   "language": "python",
   "name": "python3"
  },
  "language_info": {
   "codemirror_mode": {
    "name": "ipython",
    "version": 3
   },
   "file_extension": ".py",
   "mimetype": "text/x-python",
   "name": "python",
   "nbconvert_exporter": "python",
   "pygments_lexer": "ipython3",
   "version": "3.7.6"
  }
 },
 "nbformat": 4,
 "nbformat_minor": 4
}
